{
 "cells": [
  {
   "cell_type": "code",
   "execution_count": null,
   "metadata": {},
   "outputs": [],
   "source": [
    "from selenium import webdriver\n",
    "from selenium.webdriver.chrome.options import Options\n",
    "\n",
    "# Replace 'path/to/chromedriver' with the actual path to the downloaded ChromeDriver executable\n",
    "chrome_options = Options()\n",
    "#chrome_options.add_argument(\"--headless\")  # Run the browser in headless mode (without opening the window)\n",
    "driver = webdriver.Chrome(executable_path=\"path/to/chromedriver\", options=chrome_options)\n",
    "\n",
    "url = \"https://openaimaster.io/category/news/\"\n",
    "driver.get(url)\n",
    "\n",
    "# Find the first post link and click on it\n",
    "first_post_link = driver.find_element_by_css_selector(\".post-item:first-child .entry-title a\")\n",
    "first_post_link.click()\n",
    "\n",
    "# You can now interact with the first post's page, scrape data, or perform further actions\n",
    "# For example, you can get the current URL of the first post page:\n",
    "print(driver.current_url)\n",
    "\n",
    "# Don't forget to close the browser window when done\n",
    "driver.quit()"
   ]
  }
 ],
 "metadata": {
  "kernelspec": {
   "display_name": "base",
   "language": "python",
   "name": "python3"
  },
  "language_info": {
   "codemirror_mode": {
    "name": "ipython",
    "version": 3
   },
   "file_extension": ".py",
   "mimetype": "text/x-python",
   "name": "python",
   "nbconvert_exporter": "python",
   "pygments_lexer": "ipython3",
   "version": "3.9.13"
  },
  "orig_nbformat": 4
 },
 "nbformat": 4,
 "nbformat_minor": 2
}
